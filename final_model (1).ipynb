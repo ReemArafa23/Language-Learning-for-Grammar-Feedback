{
 "cells": [
  {
   "cell_type": "code",
   "execution_count": 2,
   "metadata": {
    "colab": {
     "base_uri": "https://localhost:8080/"
    },
    "executionInfo": {
     "elapsed": 56081,
     "status": "ok",
     "timestamp": 1736153896374,
     "user": {
      "displayName": "Mohanned Mahmoud",
      "userId": "05104164835027162872"
     },
     "user_tz": -120
    },
    "id": "fofnE5hhDw1W",
    "outputId": "f49cb602-0894-4b46-85ed-bec44a7e9c90"
   },
   "outputs": [
    {
     "name": "stdout",
     "output_type": "stream",
     "text": [
      "Mounted at /content/drive\n"
     ]
    }
   ],
   "source": [
    "from google.colab import drive\n",
    "\n",
    "# Mount Google Drive\n",
    "drive.mount('/content/drive')\n"
   ]
  },
  {
   "cell_type": "code",
   "execution_count": 4,
   "metadata": {
    "colab": {
     "base_uri": "https://localhost:8080/"
    },
    "executionInfo": {
     "elapsed": 4456,
     "status": "ok",
     "timestamp": 1736154082937,
     "user": {
      "displayName": "Mohanned Mahmoud",
      "userId": "05104164835027162872"
     },
     "user_tz": -120
    },
    "id": "lP3LNXbvCMJc",
    "outputId": "efde2514-ab1e-4b4d-c3e3-6265877673ba"
   },
   "outputs": [
    {
     "name": "stdout",
     "output_type": "stream",
     "text": [
      "original : She will goes to the market yesterday but forgot her wallet.\n",
      "correct : She went to the market yesterday but forgot her wallet.\n"
     ]
    }
   ],
   "source": [
    "def GECToR(sentence):\n",
    "    model_path = '/content/drive/MyDrive/ML_project/fine_tuned_gec_model'\n",
    "    device = torch.device(\"cuda\" if torch.cuda.is_available() else \"cpu\")\n",
    "    tokenizer = AutoTokenizer.from_pretrained(model_path)\n",
    "    model = AutoModelForSeq2SeqLM.from_pretrained(model_path).to(device)\n",
    "\n",
    "    inputs = tokenizer(sentence, return_tensors='pt', max_length=64, truncation=True).to(device)\n",
    "    with torch.no_grad():\n",
    "        outputs = model.generate(**inputs)\n",
    "    corrected_sentence = tokenizer.decode(outputs[0], skip_special_tokens=True)\n",
    "    return corrected_sentence\n",
    "\n",
    "test = \"She will goes to the market yesterday but forgot her wallet.\"\n",
    "print('original : ' + test)\n",
    "print('correct : ' + GECToR(test))\n"
   ]
  },
  {
   "cell_type": "code",
   "execution_count": 5,
   "metadata": {
    "colab": {
     "base_uri": "https://localhost:8080/"
    },
    "executionInfo": {
     "elapsed": 22300,
     "status": "ok",
     "timestamp": 1736154106448,
     "user": {
      "displayName": "Mohanned Mahmoud",
      "userId": "05104164835027162872"
     },
     "user_tz": -120
    },
    "id": "kkQCTOstIHcV",
    "outputId": "e8058525-a8e8-485d-f0c3-d7fb37013b10"
   },
   "outputs": [
    {
     "name": "stdout",
     "output_type": "stream",
     "text": [
      "original : She will goes to the market yesterday but forgot her wallet.\n",
      "correct : She went to the market yesterday but forgot her wallet.\n"
     ]
    }
   ],
   "source": [
    "def coedit(sentence):\n",
    "  model_path = '/content/drive/MyDrive/ML_project/coedit'\n",
    "  device = torch.device(\"cuda\" if torch.cuda.is_available() else \"cpu\")\n",
    "  tokenizer = T5Tokenizer.from_pretrained(model_path, legacy=False, local_files_only=True)\n",
    "  model = T5ForConditionalGeneration.from_pretrained(model_path, local_files_only=True).to('cpu')\n",
    "  input_text = f\"fix grammar: {sentence}\"\n",
    "  inputs = tokenizer(input_text, return_tensors='pt', max_length=64, truncation=True).to(device)\n",
    "  with torch.no_grad():\n",
    "      outputs = model.generate(**inputs, max_length=64, num_beams=5, early_stopping=True)\n",
    "  corrected_sentence = tokenizer.decode(outputs[0], skip_special_tokens=True)\n",
    "  return corrected_sentence\n",
    "\n",
    "test = \"She will goes to the market yesterday but forgot her wallet.\"\n",
    "print('original : ' + test)\n",
    "print('correct : ' + coedit(test))\n",
    "\n"
   ]
  },
  {
   "cell_type": "code",
   "execution_count": 6,
   "metadata": {
    "colab": {
     "base_uri": "https://localhost:8080/"
    },
    "executionInfo": {
     "elapsed": 7683,
     "status": "ok",
     "timestamp": 1736154116368,
     "user": {
      "displayName": "Mohanned Mahmoud",
      "userId": "05104164835027162872"
     },
     "user_tz": -120
    },
    "id": "iho7OEFXOH5x",
    "outputId": "16c5d4dd-c51f-40e8-95a0-5cac3e5a6873"
   },
   "outputs": [
    {
     "name": "stdout",
     "output_type": "stream",
     "text": [
      "original : She will goes to the market yesterday but forgot her wallet.\n",
      "correct : She went to the market yesterday, but forgot her wallet.\n"
     ]
    }
   ],
   "source": [
    "def BART(sentence):\n",
    "  model_path = '/content/drive/MyDrive/ML_project/final_model'\n",
    "  device = torch.device(\"cuda\" if torch.cuda.is_available() else \"cpu\")\n",
    "  tokenizer = T5Tokenizer.from_pretrained(model_path, legacy=False, local_files_only=True)\n",
    "  model = T5ForConditionalGeneration.from_pretrained(model_path, local_files_only=True).to('cpu')\n",
    "  input_text = f\"fix grammar: {sentence}\"\n",
    "  inputs = tokenizer(input_text, return_tensors='pt', max_length=64, truncation=True).to(device)\n",
    "  with torch.no_grad():\n",
    "      outputs = model.generate(**inputs, max_length=64, num_beams=5, early_stopping=True)\n",
    "  corrected_sentence = tokenizer.decode(outputs[0], skip_special_tokens=True)\n",
    "  return corrected_sentence\n",
    "\n",
    "test = \"She will goes to the market yesterday but forgot her wallet.\"\n",
    "print('original : ' + test)\n",
    "print('correct : ' + BART(test))"
   ]
  },
  {
   "cell_type": "code",
   "execution_count": 7,
   "metadata": {
    "colab": {
     "base_uri": "https://localhost:8080/"
    },
    "executionInfo": {
     "elapsed": 2626,
     "status": "ok",
     "timestamp": 1736154122985,
     "user": {
      "displayName": "Mohanned Mahmoud",
      "userId": "05104164835027162872"
     },
     "user_tz": -120
    },
    "id": "y8S-fGHyPJjT",
    "outputId": "cdd5796f-499e-4800-8640-5bf7b628ed0f"
   },
   "outputs": [
    {
     "name": "stdout",
     "output_type": "stream",
     "text": [
      "original : She will goes to the market yesterday but forgot her wallet.\n",
      "correct : 0.004988500382751226\n"
     ]
    }
   ],
   "source": [
    "def Classification(sentence):\n",
    "  model_path = '/content/drive/MyDrive/ML_project/Classification'\n",
    "  device = torch.device(\"cuda\" if torch.cuda.is_available() else \"cpu\")\n",
    "  tokenizer = AutoTokenizer.from_pretrained(model_path, local_files_only=True)\n",
    "  model = AutoModelForSequenceClassification.from_pretrained(model_path, local_files_only=True).to('cpu')\n",
    "  inputs = tokenizer(sentence, return_tensors='pt', truncation=True, max_length=64).to(device)\n",
    "  with torch.no_grad():\n",
    "      outputs = model(**inputs)\n",
    "  score = torch.softmax(outputs.logits, dim=-1)[0][1].item()\n",
    "  return score\n",
    "\n",
    "test = \"She will goes to the market yesterday but forgot her wallet.\"\n",
    "print('original : ' + test)\n",
    "print(f'correct : {Classification(test)}') # Use f-string for formatting"
   ]
  },
  {
   "cell_type": "code",
   "execution_count": null,
   "metadata": {
    "id": "BFqgX1C6QNgB"
   },
   "outputs": [],
   "source": [
    "test = input(\"Enter a sentence:\")\n",
    "def my_NN(sentence):\n",
    "  first_1 = GECToR(coedit(BART(sentence)))\n",
    "  first_2 = GECToR(BART(coedit(sentence)))\n",
    "  second_1 = coedit(BART(GECToR(sentence)))\n",
    "  second_2 = coedit(GECToR(BART(sentence)))\n",
    "  third_1 = BART(GECToR(coedit(sentence)))\n",
    "  third_2 = BART(coedit(GECToR(sentence)))\n",
    "  l1 = []\n",
    "  l1.append(first_1)\n",
    "  l1.append(first_2)\n",
    "  l1.append(second_1)\n",
    "  l1.append(second_2)\n",
    "  l1.append(third_1)\n",
    "  l1.append(third_2)\n",
    "  score = []\n",
    "  for i in l1:\n",
    "    score.append(Classification(i))\n",
    "  return l1[score.index(max(score))]\n",
    "\n",
    "print('original : ' + test)\n",
    "print('correct : ' + my_NN(test))\n",
    "\n",
    "\n"
   ]
  },
  {
   "cell_type": "code",
   "execution_count": null,
   "metadata": {
    "colab": {
     "base_uri": "https://localhost:8080/"
    },
    "executionInfo": {
     "elapsed": 275,
     "status": "ok",
     "timestamp": 1736096974073,
     "user": {
      "displayName": "Mohanned Mahmoud",
      "userId": "05104164835027162872"
     },
     "user_tz": -120
    },
    "id": "a9YoT0FDT0zl",
    "outputId": "1692a813-6aea-45b2-c90a-4f6e10702a55"
   },
   "outputs": [
    {
     "name": "stdout",
     "output_type": "stream",
     "text": [
      "['She will goes to the market yesterday but forgot her wallet.', 'Me and him goes to store and buyed candies.', \"He don't knows nothing about fixing cars.\", 'Although he was tired. Decided to keep working.', \"Their going too the park later, isn't it?\", 'The dog bark loudly every morning.', \"He didn't knew about the meeting.\", 'Me and her went to the cinema.', \"She don't wants to go out tonight.\", 'We was watching a movie yesterday.', \"I didn't see nobody at the party.\", 'She is good in math.', 'The flowers smells nice.', 'Running fast, the finish line was reached.', 'She buyed a new dress last week.', 'Them is going to the event.', 'He was so tired, he slept all the day.', 'I seen him at the mall yesterday.', 'She enjoy to read books.', \"Her don't like spicy food.\", 'They was playing soccer when I arrived.', 'Him is taller than me.', 'The book were on the table.', \"He don't have no money.\", 'The cat was sitting on a tree who was very high.', 'She is married with a lawyer.', \"He doesn't knows where the library is.\", 'While walking through the park, the birds sang beautifully.', 'Me and my friend likes pizza.', 'He was interested on the new project.', 'I cannot able to do it.', 'She is knowing the answer.', 'If I was you, I would apologize.', 'The movie was too much long.', 'I am agree with your opinion.', 'She said me to come early.', 'The train leave at 5 PM every day.', 'I have seen her yesterday.', 'He suggested me to join the team.', 'They was not ready for the trip.', 'Neither of the boys are responsible.', 'She sings good.', 'He is very interesting in science.', 'Me went to the party alone.', \"He didn't knew what to say.\", 'The team are playing well.', 'You should to try harder.', 'He is more taller than me.', 'She do her homework every evening.', 'Each of the students were given a book.', \"He doesn't likes coffee.\", 'This place is more better than the other one.', 'I wish I was there.', 'He has went to the market.', 'The dog is barking on the stranger.', 'He explained me the problem.', \"She hasn't no time to talk.\", 'I am looking forward to meet you.', 'She can sings beautifully.', \"He don't likes working on weekends.\", \"They didn't had lunch yet.\", 'He is very tired, but he keep working.', 'This is the house where I was born in.', 'He suggested me that I should join.', 'She do not wants to leave.']\n"
     ]
    }
   ],
   "source": [
    "test_cases = [\n",
    "    (\"She will goes to the market yesterday but forgot her wallet.\", \"She went to the market yesterday, but forgot her wallet.\"),\n",
    "    (\"Me and him goes to store and buyed candies.\", \"He and I went to the store and bought candies.\"),\n",
    "    (\"He don't knows nothing about fixing cars.\", \"He doesn't know anything about fixing cars.\"),\n",
    "    (\"Although he was tired. Decided to keep working.\", \"Although he was tired, he decided to keep working.\"),\n",
    "    (\"Their going too the park later, isn't it?\", \"They're going to the park later, aren't they?\"),\n",
    "    (\"The dog bark loudly every morning.\", \"The dog barks loudly every morning.\"),\n",
    "    (\"He didn't knew about the meeting.\", \"He didn't know about the meeting.\"),\n",
    "    (\"Me and her went to the cinema.\", \"She and I went to the cinema.\"),\n",
    "    (\"She don't wants to go out tonight.\", \"She doesn't want to go out tonight.\"),\n",
    "    (\"We was watching a movie yesterday.\", \"We were watching a movie yesterday.\"),\n",
    "    (\"I didn't see nobody at the party.\", \"I didn't see anybody at the party.\"),\n",
    "    (\"She is good in math.\", \"She is good at math.\"),\n",
    "    (\"The flowers smells nice.\", \"The flowers smell nice.\"),\n",
    "    (\"Running fast, the finish line was reached.\", \"Running fast, he reached the finish line.\"),\n",
    "    (\"She buyed a new dress last week.\", \"She bought a new dress last week.\"),\n",
    "    (\"Them is going to the event.\", \"They are going to the event.\"),\n",
    "    (\"He was so tired, he slept all the day.\", \"He was so tired that he slept all day.\"),\n",
    "    (\"I seen him at the mall yesterday.\", \"I saw him at the mall yesterday.\"),\n",
    "    (\"She enjoy to read books.\", \"She enjoys reading books.\"),\n",
    "    (\"Her don't like spicy food.\", \"She doesn't like spicy food.\"),\n",
    "    (\"They was playing soccer when I arrived.\", \"They were playing soccer when I arrived.\"),\n",
    "    (\"Him is taller than me.\", \"He is taller than me.\"),\n",
    "    (\"The book were on the table.\", \"The book was on the table.\"),\n",
    "    (\"He don't have no money.\", \"He doesn't have any money.\"),\n",
    "    (\"The cat was sitting on a tree who was very high.\", \"The cat was sitting on a tree that was very high.\"),\n",
    "    (\"She is married with a lawyer.\", \"She is married to a lawyer.\"),\n",
    "    (\"He doesn't knows where the library is.\", \"He doesn't know where the library is.\"),\n",
    "    (\"While walking through the park, the birds sang beautifully.\", \"While walking through the park, he heard the birds singing beautifully.\"),\n",
    "    (\"Me and my friend likes pizza.\", \"My friend and I like pizza.\"),\n",
    "    (\"He was interested on the new project.\", \"He was interested in the new project.\"),\n",
    "    (\"I cannot able to do it.\", \"I cannot do it.\"),\n",
    "    (\"She is knowing the answer.\", \"She knows the answer.\"),\n",
    "    (\"If I was you, I would apologize.\", \"If I were you, I would apologize.\"),\n",
    "    (\"The movie was too much long.\", \"The movie was too long.\"),\n",
    "    (\"I am agree with your opinion.\", \"I agree with your opinion.\"),\n",
    "    (\"She said me to come early.\", \"She told me to come early.\"),\n",
    "    (\"The train leave at 5 PM every day.\", \"The train leaves at 5 PM every day.\"),\n",
    "    (\"I have seen her yesterday.\", \"I saw her yesterday.\"),\n",
    "    (\"He suggested me to join the team.\", \"He suggested that I join the team.\"),\n",
    "    (\"They was not ready for the trip.\", \"They were not ready for the trip.\"),\n",
    "    (\"Neither of the boys are responsible.\", \"Neither of the boys is responsible.\"),\n",
    "    (\"She sings good.\", \"She sings well.\"),\n",
    "    (\"He is very interesting in science.\", \"He is very interested in science.\"),\n",
    "    (\"Me went to the party alone.\", \"I went to the party alone.\"),\n",
    "    (\"He didn't knew what to say.\", \"He didn't know what to say.\"),\n",
    "    (\"The team are playing well.\", \"The team is playing well.\"),\n",
    "    (\"You should to try harder.\", \"You should try harder.\"),\n",
    "    (\"He is more taller than me.\", \"He is taller than me.\"),\n",
    "    (\"She do her homework every evening.\", \"She does her homework every evening.\"),\n",
    "    (\"Each of the students were given a book.\", \"Each of the students was given a book.\"),\n",
    "    (\"He doesn't likes coffee.\", \"He doesn't like coffee.\"),\n",
    "    (\"This place is more better than the other one.\", \"This place is better than the other one.\"),\n",
    "    (\"I wish I was there.\", \"I wish I were there.\"),\n",
    "    (\"He has went to the market.\", \"He has gone to the market.\"),\n",
    "    (\"The dog is barking on the stranger.\", \"The dog is barking at the stranger.\"),\n",
    "    (\"He explained me the problem.\", \"He explained the problem to me.\"),\n",
    "    (\"She hasn't no time to talk.\", \"She has no time to talk.\"),\n",
    "    (\"I am looking forward to meet you.\", \"I am looking forward to meeting you.\"),\n",
    "    (\"She can sings beautifully.\", \"She can sing beautifully.\"),\n",
    "    (\"He don't likes working on weekends.\", \"He doesn't like working on weekends.\"),\n",
    "    (\"They didn't had lunch yet.\", \"They haven't had lunch yet.\"),\n",
    "    (\"He is very tired, but he keep working.\", \"He is very tired, but he keeps working.\"),\n",
    "    (\"This is the house where I was born in.\", \"This is the house where I was born.\"),\n",
    "    (\"He suggested me that I should join.\", \"He suggested that I should join.\"),\n",
    "    (\"She do not wants to leave.\", \"She does not want to leave.\")\n",
    "]\n",
    "# i want to remove the second element of each tuble\n",
    "for i in range(len(test_cases)):\n",
    "    test_cases[i] = test_cases[i][0]\n",
    "print(test_cases)"
   ]
  },
  {
   "cell_type": "code",
   "execution_count": null,
   "metadata": {
    "colab": {
     "base_uri": "https://localhost:8080/"
    },
    "executionInfo": {
     "elapsed": 8578769,
     "status": "ok",
     "timestamp": 1736105818832,
     "user": {
      "displayName": "Mohanned Mahmoud",
      "userId": "05104164835027162872"
     },
     "user_tz": -120
    },
    "id": "PRLKRzFhcYEu",
    "outputId": "8111b389-05ae-4ea7-86f6-9c31bef86f81"
   },
   "outputs": [
    {
     "name": "stdout",
     "output_type": "stream",
     "text": [
      "original : She will goes to the market yesterday but forgot her wallet.\n",
      "correct : She went to the market yesterday, but forgot her wallet.\n",
      "original : Me and him goes to store and buyed candies.\n",
      "correct : He and I went to the store and bought some candies.\n",
      "original : He don't knows nothing about fixing cars.\n",
      "correct : He doesn't know anything about fixing cars.\n",
      "original : Although he was tired. Decided to keep working.\n",
      "correct : Although he was tired, he decided to keep working.\n",
      "original : Their going too the park later, isn't it?\n",
      "correct : They're going to the park later, though.\n",
      "original : The dog bark loudly every morning.\n",
      "correct : The dog barks loudly every morning.\n",
      "original : He didn't knew about the meeting.\n",
      "correct : He didn't know about the meeting.\n",
      "original : Me and her went to the cinema.\n",
      "correct : She and I went to the cinema.\n",
      "original : She don't wants to go out tonight.\n",
      "correct : She doesn't want to go out tonight.\n",
      "original : We was watching a movie yesterday.\n",
      "correct : We were watching a movie yesterday.\n",
      "original : I didn't see nobody at the party.\n",
      "correct : I didn't see anybody at the party.\n",
      "original : She is good in math.\n",
      "correct : She is good at math.\n",
      "original : The flowers smells nice.\n",
      "correct : The flowers smell nice.\n",
      "original : Running fast, the finish line was reached.\n",
      "correct : Running fast, the finish line was reached.\n",
      "original : She buyed a new dress last week.\n",
      "correct : She bought a new dress last week.\n",
      "original : Them is going to the event.\n",
      "correct : They are going to the event.\n",
      "original : He was so tired, he slept all the day.\n",
      "correct : He was so tired that he slept all day.\n",
      "original : I seen him at the mall yesterday.\n",
      "correct : I saw him at the mall yesterday.\n",
      "original : She enjoy to read books.\n",
      "correct : She enjoys reading books.\n",
      "original : Her don't like spicy food.\n",
      "correct : She doesn't like spicy food.\n",
      "original : They was playing soccer when I arrived.\n",
      "correct : They were playing soccer when I arrived.\n",
      "original : Him is taller than me.\n",
      "correct : He is taller than me.\n",
      "original : The book were on the table.\n",
      "correct : The books were on the table.\n",
      "original : He don't have no money.\n",
      "correct : He doesn't have any money.\n",
      "original : The cat was sitting on a tree who was very high.\n",
      "correct : The cat was sitting in a tree that was very high.\n",
      "original : She is married with a lawyer.\n",
      "correct : She is married to a lawyer.\n",
      "original : He doesn't knows where the library is.\n",
      "correct : He doesn't know where the library is.\n",
      "original : While walking through the park, the birds sang beautifully.\n",
      "correct : While walking through the park, the birds sang beautifully.\n",
      "original : Me and my friend likes pizza.\n",
      "correct : Me and my friend like pizza.\n",
      "original : He was interested on the new project.\n",
      "correct : He was interested in the new project.\n",
      "original : I cannot able to do it.\n",
      "correct : I cannot do it.\n",
      "original : She is knowing the answer.\n",
      "correct : She knows the answer.\n",
      "original : If I was you, I would apologize.\n",
      "correct : If I were you, I would apologize.\n",
      "original : The movie was too much long.\n",
      "correct : The movie was too long.\n",
      "original : I am agree with your opinion.\n",
      "correct : I agree with your opinion.\n",
      "original : She said me to come early.\n",
      "correct : She said to come early.\n",
      "original : The train leave at 5 PM every day.\n",
      "correct : The train leaves at 5 PM every day.\n",
      "original : I have seen her yesterday.\n",
      "correct : I saw her yesterday.\n",
      "original : He suggested me to join the team.\n",
      "correct : He suggested I join the team.\n",
      "original : They was not ready for the trip.\n",
      "correct : They were not ready for the trip.\n",
      "original : Neither of the boys are responsible.\n",
      "correct : Neither of the boys are responsible.\n",
      "original : She sings good.\n",
      "correct : She sings well.\n",
      "original : He is very interesting in science.\n",
      "correct : He is very interested in science.\n",
      "original : Me went to the party alone.\n",
      "correct : I went to the party alone.\n",
      "original : He didn't knew what to say.\n",
      "correct : He didn't know what to say.\n",
      "original : The team are playing well.\n",
      "correct : The team is playing well.\n",
      "original : You should to try harder.\n",
      "correct : You should try harder.\n",
      "original : He is more taller than me.\n",
      "correct : He is taller than me.\n",
      "original : She do her homework every evening.\n",
      "correct : She does her homework every evening.\n",
      "original : Each of the students were given a book.\n",
      "correct : Each of the students was given a book.\n",
      "original : He doesn't likes coffee.\n",
      "correct : He doesn't like coffee.\n",
      "original : This place is more better than the other one.\n",
      "correct : This place is better than the other one.\n",
      "original : I wish I was there.\n",
      "correct : I wish I were there.\n",
      "original : He has went to the market.\n",
      "correct : He has gone to the market.\n",
      "original : The dog is barking on the stranger.\n",
      "correct : The dog is barking at the stranger.\n",
      "original : He explained me the problem.\n",
      "correct : He explained the problem to me.\n",
      "original : She hasn't no time to talk.\n",
      "correct : She hasn't got any time to talk.\n",
      "original : I am looking forward to meet you.\n",
      "correct : I am looking forward to meeting you.\n",
      "original : She can sings beautifully.\n",
      "correct : She can sing beautifully.\n",
      "original : He don't likes working on weekends.\n",
      "correct : He doesn't like working on weekends.\n",
      "original : They didn't had lunch yet.\n",
      "correct : They didn't have lunch yet.\n",
      "original : He is very tired, but he keep working.\n",
      "correct : He is very tired, but he keeps working.\n",
      "original : This is the house where I was born in.\n",
      "correct : This is the house where I was born.\n",
      "original : He suggested me that I should join.\n",
      "correct : He suggested that I join.\n",
      "original : She do not wants to leave.\n",
      "correct : She does not want to leave.\n"
     ]
    }
   ],
   "source": [
    "for i in test_cases:\n",
    "  print('original : ' + i)\n",
    "  print('correct : ' + my_NN(i))"
   ]
  },
  {
   "cell_type": "code",
   "execution_count": null,
   "metadata": {
    "id": "X22wO66Zcps4"
   },
   "outputs": [],
   "source": []
  }
 ],
 "metadata": {
  "colab": {
   "provenance": []
  },
  "kernelspec": {
   "display_name": "Python 3",
   "name": "python3"
  },
  "language_info": {
   "name": "python"
  }
 },
 "nbformat": 4,
 "nbformat_minor": 0
}

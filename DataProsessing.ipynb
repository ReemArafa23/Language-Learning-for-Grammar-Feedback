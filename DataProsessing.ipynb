{
 "cells": [
  {
   "cell_type": "code",
   "execution_count": 52,
   "metadata": {},
   "outputs": [],
   "source": [
    "import pandas as pd\n",
    "import difflib\n",
    "from IPython.display import display"
   ]
  },
  {
   "cell_type": "code",
   "execution_count": 35,
   "metadata": {},
   "outputs": [
    {
     "data": {
      "text/html": [
       "<div>\n",
       "<style scoped>\n",
       "    .dataframe tbody tr th:only-of-type {\n",
       "        vertical-align: middle;\n",
       "    }\n",
       "\n",
       "    .dataframe tbody tr th {\n",
       "        vertical-align: top;\n",
       "    }\n",
       "\n",
       "    .dataframe thead th {\n",
       "        text-align: right;\n",
       "    }\n",
       "</style>\n",
       "<table border=\"1\" class=\"dataframe\">\n",
       "  <thead>\n",
       "    <tr style=\"text-align: right;\">\n",
       "      <th></th>\n",
       "      <th>sentence</th>\n",
       "      <th>corrections</th>\n",
       "    </tr>\n",
       "  </thead>\n",
       "  <tbody>\n",
       "    <tr>\n",
       "      <th>0</th>\n",
       "      <td>So I think we can not live if old people could...</td>\n",
       "      <td>So I think we would not be alive if our ancest...</td>\n",
       "    </tr>\n",
       "    <tr>\n",
       "      <th>1</th>\n",
       "      <td>For not use car .</td>\n",
       "      <td>Not for use with a car .</td>\n",
       "    </tr>\n",
       "    <tr>\n",
       "      <th>2</th>\n",
       "      <td>Here was no promise of morning except that we ...</td>\n",
       "      <td>Here was no promise of morning , except that w...</td>\n",
       "    </tr>\n",
       "    <tr>\n",
       "      <th>3</th>\n",
       "      <td>Thus even today sex is considered as the least...</td>\n",
       "      <td>Thus , even today , sex is considered as the l...</td>\n",
       "    </tr>\n",
       "    <tr>\n",
       "      <th>4</th>\n",
       "      <td>image you salf you are wark in factory just to...</td>\n",
       "      <td>Imagine yourself you are working in factory ju...</td>\n",
       "    </tr>\n",
       "    <tr>\n",
       "      <th>...</th>\n",
       "      <td>...</td>\n",
       "      <td>...</td>\n",
       "    </tr>\n",
       "    <tr>\n",
       "      <th>749</th>\n",
       "      <td>Other tourists would teach you some tips for t...</td>\n",
       "      <td>Other tourists with experience can give you so...</td>\n",
       "    </tr>\n",
       "    <tr>\n",
       "      <th>750</th>\n",
       "      <td>The government also should try to reduce the s...</td>\n",
       "      <td>The government should also try to reduce the s...</td>\n",
       "    </tr>\n",
       "    <tr>\n",
       "      <th>751</th>\n",
       "      <td>Alot of memories with enogh time to remember w...</td>\n",
       "      <td>A lot of memories , with enough time to rememb...</td>\n",
       "    </tr>\n",
       "    <tr>\n",
       "      <th>752</th>\n",
       "      <td>Sceene of violence can affect on them .</td>\n",
       "      <td>A scene of violence can have an effect on them .</td>\n",
       "    </tr>\n",
       "    <tr>\n",
       "      <th>753</th>\n",
       "      <td>While the communities in general have reckoned...</td>\n",
       "      <td>The communities in general have reckoned that ...</td>\n",
       "    </tr>\n",
       "  </tbody>\n",
       "</table>\n",
       "<p>754 rows × 2 columns</p>\n",
       "</div>"
      ],
      "text/plain": [
       "                                              sentence  \\\n",
       "0    So I think we can not live if old people could...   \n",
       "1                                   For not use car .    \n",
       "2    Here was no promise of morning except that we ...   \n",
       "3    Thus even today sex is considered as the least...   \n",
       "4    image you salf you are wark in factory just to...   \n",
       "..                                                 ...   \n",
       "749  Other tourists would teach you some tips for t...   \n",
       "750  The government also should try to reduce the s...   \n",
       "751  Alot of memories with enogh time to remember w...   \n",
       "752           Sceene of violence can affect on them .    \n",
       "753  While the communities in general have reckoned...   \n",
       "\n",
       "                                           corrections  \n",
       "0    So I think we would not be alive if our ancest...  \n",
       "1                             Not for use with a car .  \n",
       "2    Here was no promise of morning , except that w...  \n",
       "3    Thus , even today , sex is considered as the l...  \n",
       "4    Imagine yourself you are working in factory ju...  \n",
       "..                                                 ...  \n",
       "749  Other tourists with experience can give you so...  \n",
       "750  The government should also try to reduce the s...  \n",
       "751  A lot of memories , with enough time to rememb...  \n",
       "752   A scene of violence can have an effect on them .  \n",
       "753  The communities in general have reckoned that ...  \n",
       "\n",
       "[754 rows x 2 columns]"
      ]
     },
     "execution_count": 35,
     "metadata": {},
     "output_type": "execute_result"
    }
   ],
   "source": [
    "df1 = pd.read_csv('Grammar labeled.csv')\n",
    "df1['corrections'] = df1['corrections'].str.replace(r'^\\[\"|^\\[\\'', '', regex=True).str.split('\\'').str[0].str.strip()\n",
    "df1"
   ]
  },
  {
   "cell_type": "code",
   "execution_count": 36,
   "metadata": {},
   "outputs": [],
   "source": [
    "df2 = pd.read_csv('Grammar Correction.csv')\n",
    "df2 = df2.iloc[:, 2:]"
   ]
  },
  {
   "cell_type": "code",
   "execution_count": 37,
   "metadata": {},
   "outputs": [],
   "source": [
    "merged_df = pd.concat([df1, df2], ignore_index=True)\n",
    "merged_df.to_csv('merged_data.csv', index=False)"
   ]
  },
  {
   "cell_type": "code",
   "execution_count": 38,
   "metadata": {},
   "outputs": [],
   "source": [
    "df = pd.read_csv('merged_data.csv')"
   ]
  },
  {
   "cell_type": "code",
   "execution_count": 49,
   "metadata": {},
   "outputs": [
    {
     "name": "stderr",
     "output_type": "stream",
     "text": [
      "C:\\Users\\reema\\AppData\\Local\\Temp\\ipykernel_13792\\591737045.py:16: SettingWithCopyWarning: \n",
      "A value is trying to be set on a copy of a slice from a DataFrame.\n",
      "Try using .loc[row_indexer,col_indexer] = value instead\n",
      "\n",
      "See the caveats in the documentation: https://pandas.pydata.org/pandas-docs/stable/user_guide/indexing.html#returning-a-view-versus-a-copy\n",
      "  df[['Deleted_Words', 'Added_Words']] = df.apply(\n"
     ]
    },
    {
     "data": {
      "text/html": [
       "<div>\n",
       "<style scoped>\n",
       "    .dataframe tbody tr th:only-of-type {\n",
       "        vertical-align: middle;\n",
       "    }\n",
       "\n",
       "    .dataframe tbody tr th {\n",
       "        vertical-align: top;\n",
       "    }\n",
       "\n",
       "    .dataframe thead th {\n",
       "        text-align: right;\n",
       "    }\n",
       "</style>\n",
       "<table border=\"1\" class=\"dataframe\">\n",
       "  <thead>\n",
       "    <tr style=\"text-align: right;\">\n",
       "      <th></th>\n",
       "      <th>sentence</th>\n",
       "      <th>corrections</th>\n",
       "      <th>Deleted_Words</th>\n",
       "      <th>Added_Words</th>\n",
       "    </tr>\n",
       "  </thead>\n",
       "  <tbody>\n",
       "    <tr>\n",
       "      <th>0</th>\n",
       "      <td>So I think we can not live if old people could...</td>\n",
       "      <td>So I think we would not be alive if our ancest...</td>\n",
       "      <td>can, live, old, people, could, not, find, sien...</td>\n",
       "      <td>would+ be+ alive+ our+ ancestors+ develop+ sci...</td>\n",
       "    </tr>\n",
       "    <tr>\n",
       "      <th>1</th>\n",
       "      <td>For not use car .</td>\n",
       "      <td>Not for use with a car .</td>\n",
       "      <td>For, not</td>\n",
       "      <td>Not+ for+ with+ a</td>\n",
       "    </tr>\n",
       "    <tr>\n",
       "      <th>2</th>\n",
       "      <td>Here was no promise of morning except that we ...</td>\n",
       "      <td>Here was no promise of morning , except that w...</td>\n",
       "      <td></td>\n",
       "      <td>,+ ,+ and</td>\n",
       "    </tr>\n",
       "    <tr>\n",
       "      <th>3</th>\n",
       "      <td>Thus even today sex is considered as the least...</td>\n",
       "      <td>Thus , even today , sex is considered as the l...</td>\n",
       "      <td>many</td>\n",
       "      <td>,+ ,+ may</td>\n",
       "    </tr>\n",
       "    <tr>\n",
       "      <th>4</th>\n",
       "      <td>image you salf you are wark in factory just to...</td>\n",
       "      <td>Imagine yourself you are working in factory ju...</td>\n",
       "      <td>image, you, salf, wark, pot, taire, destroy, b...</td>\n",
       "      <td>Imagine+ yourself+ working+ put+ air+ a+ be+ d...</td>\n",
       "    </tr>\n",
       "    <tr>\n",
       "      <th>...</th>\n",
       "      <td>...</td>\n",
       "      <td>...</td>\n",
       "      <td>...</td>\n",
       "      <td>...</td>\n",
       "    </tr>\n",
       "    <tr>\n",
       "      <th>2767</th>\n",
       "      <td>The festival celebrates music, culture, and to...</td>\n",
       "      <td>The festival celebrates music, culture, and br...</td>\n",
       "      <td>to, bring</td>\n",
       "      <td>brings</td>\n",
       "    </tr>\n",
       "    <tr>\n",
       "      <th>2768</th>\n",
       "      <td>The seminar will address topics such as career...</td>\n",
       "      <td>The seminar will address topics such as career...</td>\n",
       "      <td>to, build</td>\n",
       "      <td>building</td>\n",
       "    </tr>\n",
       "    <tr>\n",
       "      <th>2769</th>\n",
       "      <td>The research examines the effects of climate c...</td>\n",
       "      <td>The research examines the effects of climate c...</td>\n",
       "      <td>to, propose</td>\n",
       "      <td>proposes</td>\n",
       "    </tr>\n",
       "    <tr>\n",
       "      <th>2770</th>\n",
       "      <td>The report highlights the need for investment,...</td>\n",
       "      <td>The report highlights the need for investment,...</td>\n",
       "      <td>to, create, jobs.</td>\n",
       "      <td>job+ creation.</td>\n",
       "    </tr>\n",
       "    <tr>\n",
       "      <th>2771</th>\n",
       "      <td>The program encourages students to think creat...</td>\n",
       "      <td>The program encourages students to think creat...</td>\n",
       "      <td>to</td>\n",
       "      <td></td>\n",
       "    </tr>\n",
       "  </tbody>\n",
       "</table>\n",
       "<p>2770 rows × 4 columns</p>\n",
       "</div>"
      ],
      "text/plain": [
       "                                               sentence  \\\n",
       "0     So I think we can not live if old people could...   \n",
       "1                                    For not use car .    \n",
       "2     Here was no promise of morning except that we ...   \n",
       "3     Thus even today sex is considered as the least...   \n",
       "4     image you salf you are wark in factory just to...   \n",
       "...                                                 ...   \n",
       "2767  The festival celebrates music, culture, and to...   \n",
       "2768  The seminar will address topics such as career...   \n",
       "2769  The research examines the effects of climate c...   \n",
       "2770  The report highlights the need for investment,...   \n",
       "2771  The program encourages students to think creat...   \n",
       "\n",
       "                                            corrections  \\\n",
       "0     So I think we would not be alive if our ancest...   \n",
       "1                              Not for use with a car .   \n",
       "2     Here was no promise of morning , except that w...   \n",
       "3     Thus , even today , sex is considered as the l...   \n",
       "4     Imagine yourself you are working in factory ju...   \n",
       "...                                                 ...   \n",
       "2767  The festival celebrates music, culture, and br...   \n",
       "2768  The seminar will address topics such as career...   \n",
       "2769  The research examines the effects of climate c...   \n",
       "2770  The report highlights the need for investment,...   \n",
       "2771  The program encourages students to think creat...   \n",
       "\n",
       "                                          Deleted_Words  \\\n",
       "0     can, live, old, people, could, not, find, sien...   \n",
       "1                                              For, not   \n",
       "2                                                         \n",
       "3                                                  many   \n",
       "4     image, you, salf, wark, pot, taire, destroy, b...   \n",
       "...                                                 ...   \n",
       "2767                                          to, bring   \n",
       "2768                                          to, build   \n",
       "2769                                        to, propose   \n",
       "2770                                  to, create, jobs.   \n",
       "2771                                                 to   \n",
       "\n",
       "                                            Added_Words  \n",
       "0     would+ be+ alive+ our+ ancestors+ develop+ sci...  \n",
       "1                                     Not+ for+ with+ a  \n",
       "2                                             ,+ ,+ and  \n",
       "3                                             ,+ ,+ may  \n",
       "4     Imagine+ yourself+ working+ put+ air+ a+ be+ d...  \n",
       "...                                                 ...  \n",
       "2767                                             brings  \n",
       "2768                                           building  \n",
       "2769                                           proposes  \n",
       "2770                                     job+ creation.  \n",
       "2771                                                     \n",
       "\n",
       "[2770 rows x 4 columns]"
      ]
     },
     "metadata": {},
     "output_type": "display_data"
    }
   ],
   "source": [
    "def get_deleted_added(incorrect_sentence, correct_sentence):\n",
    "    \n",
    "    diff = difflib.ndiff(incorrect_sentence.split(), correct_sentence.split())\n",
    "    \n",
    "    deleted_words = []\n",
    "    added_words = []\n",
    "    \n",
    "    for word in diff:\n",
    "        if word.startswith('- '):  \n",
    "            deleted_words.append(word[2:])\n",
    "        elif word.startswith('+ '):  \n",
    "            added_words.append(word[2:])\n",
    "    \n",
    "    return ', '.join(deleted_words), '+ '.join(added_words)\n",
    "\n",
    "df[['Deleted_Words', 'Added_Words']] = df.apply(\n",
    "    lambda row: get_deleted_added(row['sentence'], row['corrections']),\n",
    "    axis=1, result_type='expand'\n",
    ")\n",
    "\n",
    "display(df)"
   ]
  },
  {
   "cell_type": "code",
   "execution_count": 41,
   "metadata": {},
   "outputs": [
    {
     "data": {
      "text/plain": [
       "sentence         0\n",
       "corrections      0\n",
       "Deleted_Words    0\n",
       "Added_Words      0\n",
       "dtype: int64"
      ]
     },
     "execution_count": 41,
     "metadata": {},
     "output_type": "execute_result"
    }
   ],
   "source": [
    "df.isnull().sum()"
   ]
  },
  {
   "cell_type": "code",
   "execution_count": 44,
   "metadata": {},
   "outputs": [
    {
     "data": {
      "text/plain": [
       "2"
      ]
     },
     "execution_count": 44,
     "metadata": {},
     "output_type": "execute_result"
    }
   ],
   "source": [
    "df.duplicated().sum()"
   ]
  },
  {
   "cell_type": "code",
   "execution_count": 45,
   "metadata": {},
   "outputs": [],
   "source": [
    "df = df.drop_duplicates()"
   ]
  },
  {
   "cell_type": "code",
   "execution_count": 46,
   "metadata": {},
   "outputs": [
    {
     "data": {
      "text/plain": [
       "0"
      ]
     },
     "execution_count": 46,
     "metadata": {},
     "output_type": "execute_result"
    }
   ],
   "source": [
    "df.duplicated().sum()"
   ]
  },
  {
   "cell_type": "code",
   "execution_count": 47,
   "metadata": {},
   "outputs": [
    {
     "name": "stdout",
     "output_type": "stream",
     "text": [
      "<class 'pandas.core.frame.DataFrame'>\n",
      "Int64Index: 2770 entries, 0 to 2771\n",
      "Data columns (total 4 columns):\n",
      " #   Column         Non-Null Count  Dtype \n",
      "---  ------         --------------  ----- \n",
      " 0   sentence       2770 non-null   object\n",
      " 1   corrections    2770 non-null   object\n",
      " 2   Deleted_Words  2770 non-null   object\n",
      " 3   Added_Words    2770 non-null   object\n",
      "dtypes: object(4)\n",
      "memory usage: 108.2+ KB\n"
     ]
    }
   ],
   "source": [
    "df.info()"
   ]
  },
  {
   "cell_type": "code",
   "execution_count": 50,
   "metadata": {},
   "outputs": [
    {
     "data": {
      "text/html": [
       "<div>\n",
       "<style scoped>\n",
       "    .dataframe tbody tr th:only-of-type {\n",
       "        vertical-align: middle;\n",
       "    }\n",
       "\n",
       "    .dataframe tbody tr th {\n",
       "        vertical-align: top;\n",
       "    }\n",
       "\n",
       "    .dataframe thead th {\n",
       "        text-align: right;\n",
       "    }\n",
       "</style>\n",
       "<table border=\"1\" class=\"dataframe\">\n",
       "  <thead>\n",
       "    <tr style=\"text-align: right;\">\n",
       "      <th></th>\n",
       "      <th>sentence</th>\n",
       "      <th>corrections</th>\n",
       "      <th>Deleted_Words</th>\n",
       "      <th>Added_Words</th>\n",
       "    </tr>\n",
       "  </thead>\n",
       "  <tbody>\n",
       "    <tr>\n",
       "      <th>0</th>\n",
       "      <td>So I think we can not live if old people could...</td>\n",
       "      <td>So I think we would not be alive if our ancest...</td>\n",
       "      <td>can, live, old, people, could, not, find, sien...</td>\n",
       "      <td>would+ be+ alive+ our+ ancestors+ develop+ sci...</td>\n",
       "    </tr>\n",
       "    <tr>\n",
       "      <th>1</th>\n",
       "      <td>For not use car .</td>\n",
       "      <td>Not for use with a car .</td>\n",
       "      <td>For, not</td>\n",
       "      <td>Not+ for+ with+ a</td>\n",
       "    </tr>\n",
       "    <tr>\n",
       "      <th>2</th>\n",
       "      <td>Here was no promise of morning except that we ...</td>\n",
       "      <td>Here was no promise of morning , except that w...</td>\n",
       "      <td></td>\n",
       "      <td>,+ ,+ and</td>\n",
       "    </tr>\n",
       "    <tr>\n",
       "      <th>3</th>\n",
       "      <td>Thus even today sex is considered as the least...</td>\n",
       "      <td>Thus , even today , sex is considered as the l...</td>\n",
       "      <td>many</td>\n",
       "      <td>,+ ,+ may</td>\n",
       "    </tr>\n",
       "    <tr>\n",
       "      <th>4</th>\n",
       "      <td>image you salf you are wark in factory just to...</td>\n",
       "      <td>Imagine yourself you are working in factory ju...</td>\n",
       "      <td>image, you, salf, wark, pot, taire, destroy, b...</td>\n",
       "      <td>Imagine+ yourself+ working+ put+ air+ a+ be+ d...</td>\n",
       "    </tr>\n",
       "  </tbody>\n",
       "</table>\n",
       "</div>"
      ],
      "text/plain": [
       "                                            sentence  \\\n",
       "0  So I think we can not live if old people could...   \n",
       "1                                 For not use car .    \n",
       "2  Here was no promise of morning except that we ...   \n",
       "3  Thus even today sex is considered as the least...   \n",
       "4  image you salf you are wark in factory just to...   \n",
       "\n",
       "                                         corrections  \\\n",
       "0  So I think we would not be alive if our ancest...   \n",
       "1                           Not for use with a car .   \n",
       "2  Here was no promise of morning , except that w...   \n",
       "3  Thus , even today , sex is considered as the l...   \n",
       "4  Imagine yourself you are working in factory ju...   \n",
       "\n",
       "                                       Deleted_Words  \\\n",
       "0  can, live, old, people, could, not, find, sien...   \n",
       "1                                           For, not   \n",
       "2                                                      \n",
       "3                                               many   \n",
       "4  image, you, salf, wark, pot, taire, destroy, b...   \n",
       "\n",
       "                                         Added_Words  \n",
       "0  would+ be+ alive+ our+ ancestors+ develop+ sci...  \n",
       "1                                  Not+ for+ with+ a  \n",
       "2                                          ,+ ,+ and  \n",
       "3                                          ,+ ,+ may  \n",
       "4  Imagine+ yourself+ working+ put+ air+ a+ be+ d...  "
      ]
     },
     "execution_count": 50,
     "metadata": {},
     "output_type": "execute_result"
    }
   ],
   "source": [
    "df.head()"
   ]
  },
  {
   "cell_type": "code",
   "execution_count": null,
   "metadata": {},
   "outputs": [],
   "source": []
  }
 ],
 "metadata": {
  "kernelspec": {
   "display_name": "Python 3",
   "language": "python",
   "name": "python3"
  },
  "language_info": {
   "codemirror_mode": {
    "name": "ipython",
    "version": 3
   },
   "file_extension": ".py",
   "mimetype": "text/x-python",
   "name": "python",
   "nbconvert_exporter": "python",
   "pygments_lexer": "ipython3",
   "version": "3.10.11"
  }
 },
 "nbformat": 4,
 "nbformat_minor": 2
}
